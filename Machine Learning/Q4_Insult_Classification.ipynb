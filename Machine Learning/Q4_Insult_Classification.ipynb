{
  "cells": [
    {
      "cell_type": "markdown",
      "metadata": {
        "id": "view-in-github",
        "colab_type": "text"
      },
      "source": [
        "<a href=\"https://colab.research.google.com/github/Nidhushan/Deep-Learning-Projects/blob/main/Machine%20Learning/Q4_Insult_Classification.ipynb\" target=\"_parent\"><img src=\"https://colab.research.google.com/assets/colab-badge.svg\" alt=\"Open In Colab\"/></a>"
      ]
    },
    {
      "cell_type": "code",
      "source": [
        "from google.colab import drive\n",
        "drive.mount('/content/drive')"
      ],
      "metadata": {
        "id": "sVSYh0_imSPx",
        "outputId": "2d97d307-b25c-465d-8640-fe287448a7d2",
        "colab": {
          "base_uri": "https://localhost:8080/"
        }
      },
      "execution_count": 1,
      "outputs": [
        {
          "output_type": "stream",
          "name": "stdout",
          "text": [
            "Mounted at /content/drive\n"
          ]
        }
      ]
    },
    {
      "cell_type": "markdown",
      "metadata": {
        "id": "jI-2lpLxmQ-0"
      },
      "source": [
        "# Insult Classification"
      ]
    },
    {
      "cell_type": "markdown",
      "metadata": {
        "id": "1XFD7dHKmQ-1"
      },
      "source": [
        "In this exercise, we would like to filter out insulting comments on a web forum.\n",
        "\n",
        "To train our models, we have a list of historic comments with a judgement wether they're insulting or not."
      ]
    },
    {
      "cell_type": "code",
      "execution_count": 2,
      "metadata": {
        "id": "sioEgMvRmQ-2",
        "outputId": "7aeb9463-ef1e-47b7-970b-215332818827",
        "colab": {
          "base_uri": "https://localhost:8080/",
          "height": 238
        }
      },
      "outputs": [
        {
          "output_type": "execute_result",
          "data": {
            "text/plain": [
              "   Insult             Date                                            Comment\n",
              "0       1  20120618192155Z                                 You fuck your dad.\n",
              "1       0  20120528192215Z  i really don't understand your point.  It seem...\n",
              "2       0              NaN  A majority of Canadians can and has been wrong...\n",
              "3       0              NaN  listen if you dont wanna get married to a man ...\n",
              "4       0  20120619094753Z  Các bạn xuống đường biểu tình 2011 có ôn hoà k...\n",
              "5       0  20120620171226Z  @SDL OK, but I would hope they'd sign him to a..."
            ],
            "text/html": [
              "\n",
              "  <div id=\"df-0477a802-ad40-4b88-80e0-06601127dbe9\" class=\"colab-df-container\">\n",
              "    <div>\n",
              "<style scoped>\n",
              "    .dataframe tbody tr th:only-of-type {\n",
              "        vertical-align: middle;\n",
              "    }\n",
              "\n",
              "    .dataframe tbody tr th {\n",
              "        vertical-align: top;\n",
              "    }\n",
              "\n",
              "    .dataframe thead th {\n",
              "        text-align: right;\n",
              "    }\n",
              "</style>\n",
              "<table border=\"1\" class=\"dataframe\">\n",
              "  <thead>\n",
              "    <tr style=\"text-align: right;\">\n",
              "      <th></th>\n",
              "      <th>Insult</th>\n",
              "      <th>Date</th>\n",
              "      <th>Comment</th>\n",
              "    </tr>\n",
              "  </thead>\n",
              "  <tbody>\n",
              "    <tr>\n",
              "      <th>0</th>\n",
              "      <td>1</td>\n",
              "      <td>20120618192155Z</td>\n",
              "      <td>You fuck your dad.</td>\n",
              "    </tr>\n",
              "    <tr>\n",
              "      <th>1</th>\n",
              "      <td>0</td>\n",
              "      <td>20120528192215Z</td>\n",
              "      <td>i really don't understand your point.  It seem...</td>\n",
              "    </tr>\n",
              "    <tr>\n",
              "      <th>2</th>\n",
              "      <td>0</td>\n",
              "      <td>NaN</td>\n",
              "      <td>A majority of Canadians can and has been wrong...</td>\n",
              "    </tr>\n",
              "    <tr>\n",
              "      <th>3</th>\n",
              "      <td>0</td>\n",
              "      <td>NaN</td>\n",
              "      <td>listen if you dont wanna get married to a man ...</td>\n",
              "    </tr>\n",
              "    <tr>\n",
              "      <th>4</th>\n",
              "      <td>0</td>\n",
              "      <td>20120619094753Z</td>\n",
              "      <td>Các bạn xuống đường biểu tình 2011 có ôn hoà k...</td>\n",
              "    </tr>\n",
              "    <tr>\n",
              "      <th>5</th>\n",
              "      <td>0</td>\n",
              "      <td>20120620171226Z</td>\n",
              "      <td>@SDL OK, but I would hope they'd sign him to a...</td>\n",
              "    </tr>\n",
              "  </tbody>\n",
              "</table>\n",
              "</div>\n",
              "    <div class=\"colab-df-buttons\">\n",
              "\n",
              "  <div class=\"colab-df-container\">\n",
              "    <button class=\"colab-df-convert\" onclick=\"convertToInteractive('df-0477a802-ad40-4b88-80e0-06601127dbe9')\"\n",
              "            title=\"Convert this dataframe to an interactive table.\"\n",
              "            style=\"display:none;\">\n",
              "\n",
              "  <svg xmlns=\"http://www.w3.org/2000/svg\" height=\"24px\" viewBox=\"0 -960 960 960\">\n",
              "    <path d=\"M120-120v-720h720v720H120Zm60-500h600v-160H180v160Zm220 220h160v-160H400v160Zm0 220h160v-160H400v160ZM180-400h160v-160H180v160Zm440 0h160v-160H620v160ZM180-180h160v-160H180v160Zm440 0h160v-160H620v160Z\"/>\n",
              "  </svg>\n",
              "    </button>\n",
              "\n",
              "  <style>\n",
              "    .colab-df-container {\n",
              "      display:flex;\n",
              "      gap: 12px;\n",
              "    }\n",
              "\n",
              "    .colab-df-convert {\n",
              "      background-color: #E8F0FE;\n",
              "      border: none;\n",
              "      border-radius: 50%;\n",
              "      cursor: pointer;\n",
              "      display: none;\n",
              "      fill: #1967D2;\n",
              "      height: 32px;\n",
              "      padding: 0 0 0 0;\n",
              "      width: 32px;\n",
              "    }\n",
              "\n",
              "    .colab-df-convert:hover {\n",
              "      background-color: #E2EBFA;\n",
              "      box-shadow: 0px 1px 2px rgba(60, 64, 67, 0.3), 0px 1px 3px 1px rgba(60, 64, 67, 0.15);\n",
              "      fill: #174EA6;\n",
              "    }\n",
              "\n",
              "    .colab-df-buttons div {\n",
              "      margin-bottom: 4px;\n",
              "    }\n",
              "\n",
              "    [theme=dark] .colab-df-convert {\n",
              "      background-color: #3B4455;\n",
              "      fill: #D2E3FC;\n",
              "    }\n",
              "\n",
              "    [theme=dark] .colab-df-convert:hover {\n",
              "      background-color: #434B5C;\n",
              "      box-shadow: 0px 1px 3px 1px rgba(0, 0, 0, 0.15);\n",
              "      filter: drop-shadow(0px 1px 2px rgba(0, 0, 0, 0.3));\n",
              "      fill: #FFFFFF;\n",
              "    }\n",
              "  </style>\n",
              "\n",
              "    <script>\n",
              "      const buttonEl =\n",
              "        document.querySelector('#df-0477a802-ad40-4b88-80e0-06601127dbe9 button.colab-df-convert');\n",
              "      buttonEl.style.display =\n",
              "        google.colab.kernel.accessAllowed ? 'block' : 'none';\n",
              "\n",
              "      async function convertToInteractive(key) {\n",
              "        const element = document.querySelector('#df-0477a802-ad40-4b88-80e0-06601127dbe9');\n",
              "        const dataTable =\n",
              "          await google.colab.kernel.invokeFunction('convertToInteractive',\n",
              "                                                    [key], {});\n",
              "        if (!dataTable) return;\n",
              "\n",
              "        const docLinkHtml = 'Like what you see? Visit the ' +\n",
              "          '<a target=\"_blank\" href=https://colab.research.google.com/notebooks/data_table.ipynb>data table notebook</a>'\n",
              "          + ' to learn more about interactive tables.';\n",
              "        element.innerHTML = '';\n",
              "        dataTable['output_type'] = 'display_data';\n",
              "        await google.colab.output.renderOutput(dataTable, element);\n",
              "        const docLink = document.createElement('div');\n",
              "        docLink.innerHTML = docLinkHtml;\n",
              "        element.appendChild(docLink);\n",
              "      }\n",
              "    </script>\n",
              "  </div>\n",
              "\n",
              "\n",
              "<div id=\"df-0febcc0d-c14a-4583-9289-a1ee10be55df\">\n",
              "  <button class=\"colab-df-quickchart\" onclick=\"quickchart('df-0febcc0d-c14a-4583-9289-a1ee10be55df')\"\n",
              "            title=\"Suggest charts\"\n",
              "            style=\"display:none;\">\n",
              "\n",
              "<svg xmlns=\"http://www.w3.org/2000/svg\" height=\"24px\"viewBox=\"0 0 24 24\"\n",
              "     width=\"24px\">\n",
              "    <g>\n",
              "        <path d=\"M19 3H5c-1.1 0-2 .9-2 2v14c0 1.1.9 2 2 2h14c1.1 0 2-.9 2-2V5c0-1.1-.9-2-2-2zM9 17H7v-7h2v7zm4 0h-2V7h2v10zm4 0h-2v-4h2v4z\"/>\n",
              "    </g>\n",
              "</svg>\n",
              "  </button>\n",
              "\n",
              "<style>\n",
              "  .colab-df-quickchart {\n",
              "      --bg-color: #E8F0FE;\n",
              "      --fill-color: #1967D2;\n",
              "      --hover-bg-color: #E2EBFA;\n",
              "      --hover-fill-color: #174EA6;\n",
              "      --disabled-fill-color: #AAA;\n",
              "      --disabled-bg-color: #DDD;\n",
              "  }\n",
              "\n",
              "  [theme=dark] .colab-df-quickchart {\n",
              "      --bg-color: #3B4455;\n",
              "      --fill-color: #D2E3FC;\n",
              "      --hover-bg-color: #434B5C;\n",
              "      --hover-fill-color: #FFFFFF;\n",
              "      --disabled-bg-color: #3B4455;\n",
              "      --disabled-fill-color: #666;\n",
              "  }\n",
              "\n",
              "  .colab-df-quickchart {\n",
              "    background-color: var(--bg-color);\n",
              "    border: none;\n",
              "    border-radius: 50%;\n",
              "    cursor: pointer;\n",
              "    display: none;\n",
              "    fill: var(--fill-color);\n",
              "    height: 32px;\n",
              "    padding: 0;\n",
              "    width: 32px;\n",
              "  }\n",
              "\n",
              "  .colab-df-quickchart:hover {\n",
              "    background-color: var(--hover-bg-color);\n",
              "    box-shadow: 0 1px 2px rgba(60, 64, 67, 0.3), 0 1px 3px 1px rgba(60, 64, 67, 0.15);\n",
              "    fill: var(--button-hover-fill-color);\n",
              "  }\n",
              "\n",
              "  .colab-df-quickchart-complete:disabled,\n",
              "  .colab-df-quickchart-complete:disabled:hover {\n",
              "    background-color: var(--disabled-bg-color);\n",
              "    fill: var(--disabled-fill-color);\n",
              "    box-shadow: none;\n",
              "  }\n",
              "\n",
              "  .colab-df-spinner {\n",
              "    border: 2px solid var(--fill-color);\n",
              "    border-color: transparent;\n",
              "    border-bottom-color: var(--fill-color);\n",
              "    animation:\n",
              "      spin 1s steps(1) infinite;\n",
              "  }\n",
              "\n",
              "  @keyframes spin {\n",
              "    0% {\n",
              "      border-color: transparent;\n",
              "      border-bottom-color: var(--fill-color);\n",
              "      border-left-color: var(--fill-color);\n",
              "    }\n",
              "    20% {\n",
              "      border-color: transparent;\n",
              "      border-left-color: var(--fill-color);\n",
              "      border-top-color: var(--fill-color);\n",
              "    }\n",
              "    30% {\n",
              "      border-color: transparent;\n",
              "      border-left-color: var(--fill-color);\n",
              "      border-top-color: var(--fill-color);\n",
              "      border-right-color: var(--fill-color);\n",
              "    }\n",
              "    40% {\n",
              "      border-color: transparent;\n",
              "      border-right-color: var(--fill-color);\n",
              "      border-top-color: var(--fill-color);\n",
              "    }\n",
              "    60% {\n",
              "      border-color: transparent;\n",
              "      border-right-color: var(--fill-color);\n",
              "    }\n",
              "    80% {\n",
              "      border-color: transparent;\n",
              "      border-right-color: var(--fill-color);\n",
              "      border-bottom-color: var(--fill-color);\n",
              "    }\n",
              "    90% {\n",
              "      border-color: transparent;\n",
              "      border-bottom-color: var(--fill-color);\n",
              "    }\n",
              "  }\n",
              "</style>\n",
              "\n",
              "  <script>\n",
              "    async function quickchart(key) {\n",
              "      const quickchartButtonEl =\n",
              "        document.querySelector('#' + key + ' button');\n",
              "      quickchartButtonEl.disabled = true;  // To prevent multiple clicks.\n",
              "      quickchartButtonEl.classList.add('colab-df-spinner');\n",
              "      try {\n",
              "        const charts = await google.colab.kernel.invokeFunction(\n",
              "            'suggestCharts', [key], {});\n",
              "      } catch (error) {\n",
              "        console.error('Error during call to suggestCharts:', error);\n",
              "      }\n",
              "      quickchartButtonEl.classList.remove('colab-df-spinner');\n",
              "      quickchartButtonEl.classList.add('colab-df-quickchart-complete');\n",
              "    }\n",
              "    (() => {\n",
              "      let quickchartButtonEl =\n",
              "        document.querySelector('#df-0febcc0d-c14a-4583-9289-a1ee10be55df button');\n",
              "      quickchartButtonEl.style.display =\n",
              "        google.colab.kernel.accessAllowed ? 'block' : 'none';\n",
              "    })();\n",
              "  </script>\n",
              "</div>\n",
              "    </div>\n",
              "  </div>\n"
            ],
            "application/vnd.google.colaboratory.intrinsic+json": {
              "type": "dataframe",
              "variable_name": "data",
              "summary": "{\n  \"name\": \"data\",\n  \"rows\": 3947,\n  \"fields\": [\n    {\n      \"column\": \"Insult\",\n      \"properties\": {\n        \"dtype\": \"number\",\n        \"std\": 0,\n        \"min\": 0,\n        \"max\": 1,\n        \"num_unique_values\": 2,\n        \"samples\": [\n          0,\n          1\n        ],\n        \"semantic_type\": \"\",\n        \"description\": \"\"\n      }\n    },\n    {\n      \"column\": \"Date\",\n      \"properties\": {\n        \"dtype\": \"object\",\n        \"num_unique_values\": 3216,\n        \"samples\": [\n          \"20120609190723Z\",\n          \"20120528043620Z\"\n        ],\n        \"semantic_type\": \"\",\n        \"description\": \"\"\n      }\n    },\n    {\n      \"column\": \"Comment\",\n      \"properties\": {\n        \"dtype\": \"string\",\n        \"num_unique_values\": 3935,\n        \"samples\": [\n          \"Obviously you have never been there\",\n          \"No problem. Give them all the money they demand and put up fares to cover it, making plain to all passengers what the fare rises are for.\\n\\nThe results should be interesting.\"\n        ],\n        \"semantic_type\": \"\",\n        \"description\": \"\"\n      }\n    }\n  ]\n}"
            }
          },
          "metadata": {},
          "execution_count": 2
        }
      ],
      "source": [
        "import pandas as pd\n",
        "path_to_insults = 'drive/MyDrive/ML_HW_2_data/'\n",
        "data = pd.read_csv(path_to_insults + 'train-utf8.csv')\n",
        "data.head(6)"
      ]
    },
    {
      "cell_type": "code",
      "execution_count": 3,
      "metadata": {
        "id": "rRSWQE6KmQ-3",
        "outputId": "959dd2f0-6679-45d9-c22f-7a155b488334",
        "colab": {
          "base_uri": "https://localhost:8080/"
        }
      },
      "outputs": [
        {
          "output_type": "stream",
          "name": "stdout",
          "text": [
            "3947 comments, of which 1049 insults (26%)\n"
          ]
        }
      ],
      "source": [
        "print (\"%d comments, of which %d insults (%d%%)\" % \\\n",
        "    (len(data), data.Insult.sum(), 100 * data.Insult.mean()))"
      ]
    },
    {
      "cell_type": "markdown",
      "metadata": {
        "id": "zCsdJsr8mQ-4"
      },
      "source": [
        "### Looking for known bad words"
      ]
    },
    {
      "cell_type": "markdown",
      "metadata": {
        "id": "ZNIatBAsmQ-4"
      },
      "source": [
        "One way to do this, is to load Google's bad word list and flag comments that contain one or more words.\n",
        "\n",
        "- Load `google_badlist.txt` from `data/insults/`\n",
        "- Add a column to `data` with a flag (0 or 1) if the comment contains a bad word\n",
        "- Compute the accuracy of this method - does this look good?\n",
        "- What would a naive classifier's score be (i.e., always predicting 0 or 1)?\n",
        "- Also compute the precision, recall, F1 score and AUC score\n",
        "- What is your verdict?"
      ]
    },
    {
      "cell_type": "code",
      "execution_count": 4,
      "metadata": {
        "id": "UB0tAY8PmQ-4",
        "outputId": "bb5524d8-fd92-4d8e-c839-47d9604bc18a",
        "colab": {
          "base_uri": "https://localhost:8080/",
          "height": 35
        }
      },
      "outputs": [
        {
          "output_type": "execute_result",
          "data": {
            "text/plain": [
              "'drive/MyDrive/ML_HW_2_data/google_badlist.txt'"
            ],
            "application/vnd.google.colaboratory.intrinsic+json": {
              "type": "string"
            }
          },
          "metadata": {},
          "execution_count": 4
        }
      ],
      "source": [
        "filename = path_to_insults + 'google_badlist.txt'\n",
        "filename"
      ]
    },
    {
      "cell_type": "code",
      "execution_count": 5,
      "metadata": {
        "collapsed": true,
        "id": "U67GcwZcmQ-4"
      },
      "outputs": [],
      "source": [
        "# Your code here"
      ]
    },
    {
      "cell_type": "code",
      "execution_count": 6,
      "metadata": {
        "collapsed": true,
        "id": "swdamFwvmQ-4"
      },
      "outputs": [],
      "source": [
        "with open(filename, 'r', encoding='utf-8') as file:\n",
        "    bad_words = [line.strip().lower() for line in file]"
      ]
    },
    {
      "cell_type": "code",
      "execution_count": 7,
      "metadata": {
        "collapsed": true,
        "id": "WieCdEqrmQ-4",
        "colab": {
          "base_uri": "https://localhost:8080/"
        },
        "outputId": "be417a3e-46fb-4b2d-f710-05eecf1a94f2"
      },
      "outputs": [
        {
          "output_type": "execute_result",
          "data": {
            "text/plain": [
              "75.50047664442326"
            ]
          },
          "metadata": {},
          "execution_count": 7
        }
      ],
      "source": [
        "def contains_bad_words(comment):\n",
        "  sentence = comment.lower().split()\n",
        "  for word in sentence:\n",
        "    if word in bad_words:\n",
        "      return 1\n",
        "  return 0\n",
        "\n",
        "data['containsBadWord'] = data['Comment'].apply(contains_bad_words)\n",
        "\n",
        "accuracy = (data.containsBadWord.sum() / data.Insult.sum()) * 100\n",
        "accuracy"
      ]
    },
    {
      "cell_type": "code",
      "execution_count": 8,
      "metadata": {
        "collapsed": true,
        "id": "AlOnMj1QmQ-5",
        "colab": {
          "base_uri": "https://localhost:8080/"
        },
        "outputId": "9111d710-f13a-4cec-8865-d71fcb0d9265"
      },
      "outputs": [
        {
          "output_type": "stream",
          "name": "stdout",
          "text": [
            "The accuracy of 0 is: 79.93412718520395\n",
            "The accuracy of 1 is: 20.065872814796048\n"
          ]
        }
      ],
      "source": [
        "InsultValues = data['containsBadWord'].value_counts()\n",
        "\n",
        "accuracy0 = (InsultValues[0] / len(data['containsBadWord'])) * 100\n",
        "print(\"The accuracy of 0 is:\", accuracy0)\n",
        "\n",
        "accuracy1 = (InsultValues[1] / len(data['containsBadWord'])) * 100\n",
        "print(\"The accuracy of 1 is:\", accuracy1)"
      ]
    },
    {
      "cell_type": "code",
      "source": [
        "from sklearn.metrics import precision_score, recall_score, f1_score, roc_auc_score\n",
        "\n",
        "data['naiveFlag'] = 1\n",
        "\n",
        "testValues = data['containsBadWord']\n",
        "predValues = data['naiveFlag']\n",
        "\n",
        "accuracy = (data.containsBadWord.value_counts()[data['naiveFlag'][0]] / len(data['containsBadWord'])) * 100\n",
        "precision = precision_score(testValues, predValues, zero_division = 0)\n",
        "recall = recall_score(testValues, predValues)\n",
        "f1 = f1_score(testValues, predValues)\n",
        "auc = roc_auc_score(testValues, predValues)\n",
        "\n",
        "print(\"Accuracy:\", accuracy)\n",
        "print(\"Precision:\", precision)\n",
        "print(\"Recall:\", recall)\n",
        "print(\"F1 Score:\", f1)\n",
        "print(\"AUC Score:\", auc)"
      ],
      "metadata": {
        "colab": {
          "base_uri": "https://localhost:8080/"
        },
        "id": "8qHzUzZswYCl",
        "outputId": "7c6df09e-ebb5-4725-e575-98a7318e37c5"
      },
      "execution_count": 9,
      "outputs": [
        {
          "output_type": "stream",
          "name": "stdout",
          "text": [
            "Accuracy: 20.065872814796048\n",
            "Precision: 0.20065872814796049\n",
            "Recall: 1.0\n",
            "F1 Score: 0.33424773158894283\n",
            "AUC Score: 0.5\n"
          ]
        }
      ]
    },
    {
      "cell_type": "markdown",
      "metadata": {
        "id": "gAtJpaLemQ-5"
      },
      "source": [
        "### Learning bad words on the fly"
      ]
    },
    {
      "cell_type": "markdown",
      "metadata": {
        "id": "KUDDwCyCmQ-5"
      },
      "source": [
        "Another way of doing this, is to learn the insulting words on the fly using `CountVectorizer`.\n",
        "\n",
        "Please refer to the scikit learn tutorial at 'http://scikit-learn.org/stable/tutorial/text_analytics/working_with_text_data.html' if you need some help.\n",
        "\n",
        "Here is what you need to do:\n",
        "\n",
        "- Import `CountVectorizer` from `sklearn.feature_extraction.text`\n",
        "- Train the `CountVectorizer` on the insults and create a feature set $X$ representing words in the comments\n",
        "- Train `MultinomialNB` and `BernoulliNB` from `scikitsklearn`  on the new feature set $X$\n",
        "- Using cross-validation, compute the accuracy, precision, recall, F1 and AUC of your model\n",
        "- What is your verdict?\n",
        "\n",
        "NOTE: The F1 score is another useful score to compute when one of the two classes is very rare. We didn't go over it in class but it's basically the harmonic mean between precision and recall and goes from 0 (min) to 1 (max).  You can see more here: 'https://en.wikipedia.org/wiki/F1_score'"
      ]
    },
    {
      "cell_type": "code",
      "execution_count": 10,
      "metadata": {
        "collapsed": true,
        "id": "83B_DEckmQ-5"
      },
      "outputs": [],
      "source": [
        "from sklearn.linear_model import LogisticRegression\n",
        "from sklearn.feature_extraction.text import CountVectorizer\n",
        "from sklearn.model_selection import cross_val_score\n",
        "from sklearn.model_selection import train_test_split"
      ]
    },
    {
      "cell_type": "code",
      "execution_count": 11,
      "metadata": {
        "id": "dQ8rJxoKmQ-5"
      },
      "outputs": [],
      "source": [
        "# Your code here"
      ]
    },
    {
      "cell_type": "code",
      "execution_count": 12,
      "metadata": {
        "collapsed": true,
        "id": "Wg-VURJtmQ-5"
      },
      "outputs": [],
      "source": [
        "count_vect = CountVectorizer()\n",
        "X_train, X_test, y_train, y_test = train_test_split(data['Comment'], data['Insult'], test_size=0.2, random_state=66)\n",
        "X_train_counts = count_vect.fit_transform(X_train)\n",
        "X_train_counts.shape\n",
        "count_vect.vocabulary_.get(u'algorithm')"
      ]
    },
    {
      "cell_type": "code",
      "execution_count": 13,
      "metadata": {
        "collapsed": true,
        "id": "PCxAYwlmmQ-5",
        "colab": {
          "base_uri": "https://localhost:8080/"
        },
        "outputId": "36ae9142-0878-4cba-c42f-631691b67de7"
      },
      "outputs": [
        {
          "output_type": "execute_result",
          "data": {
            "text/plain": [
              "(3157, 13841)"
            ]
          },
          "metadata": {},
          "execution_count": 13
        }
      ],
      "source": [
        "from sklearn.feature_extraction.text import TfidfTransformer\n",
        "tfidf_transformer = TfidfTransformer()\n",
        "X_train_tfidf = tfidf_transformer.fit_transform(X_train_counts)\n",
        "X_train_tfidf.shape"
      ]
    },
    {
      "cell_type": "code",
      "execution_count": 14,
      "metadata": {
        "collapsed": true,
        "id": "N0bbJHeemQ-5"
      },
      "outputs": [],
      "source": [
        "from sklearn.naive_bayes import (MultinomialNB, BernoulliNB)\n",
        "clf_Multi = MultinomialNB().fit(X_train_tfidf, y_train)\n",
        "clf_Bernoulli = BernoulliNB().fit(X_train_tfidf, y_train)"
      ]
    },
    {
      "cell_type": "code",
      "execution_count": 15,
      "metadata": {
        "id": "yo0U2H9RmQ-5"
      },
      "outputs": [],
      "source": [
        "X_new_counts = count_vect.transform(X_test)\n",
        "X_new_tfidf = tfidf_transformer.transform(X_new_counts)\n",
        "\n",
        "predicted_Multi = clf_Multi.predict(X_new_tfidf)\n",
        "predicted_Bernoulli = clf_Bernoulli.predict(X_new_tfidf)\n",
        "\n",
        "# for doc, category in zip(X_test, predicted):\n",
        "#     print('%r => %s' % (doc, twenty_train.target_names[category]))"
      ]
    },
    {
      "cell_type": "code",
      "source": [
        "from sklearn.pipeline import Pipeline\n",
        "text_clf_Multi = Pipeline([\n",
        "    ('vect', CountVectorizer()),\n",
        "    ('tfidf', TfidfTransformer()),\n",
        "    ('clf', MultinomialNB()),\n",
        "])\n",
        "\n",
        "text_clf_Bernoulli = Pipeline([\n",
        "    ('vect', CountVectorizer()),\n",
        "    ('tfidf', TfidfTransformer()),\n",
        "    ('clf', BernoulliNB()),\n",
        "])\n",
        "\n",
        "text_clf_Multi.fit(X_train, y_train)\n",
        "text_clf_Bernoulli.fit(X_train, y_train)"
      ],
      "metadata": {
        "colab": {
          "base_uri": "https://localhost:8080/",
          "height": 161
        },
        "id": "wnNOPQgG4bAO",
        "outputId": "d0b7c4b0-d74e-4416-87ab-f8e63f94f773"
      },
      "execution_count": 16,
      "outputs": [
        {
          "output_type": "execute_result",
          "data": {
            "text/plain": [
              "Pipeline(steps=[('vect', CountVectorizer()), ('tfidf', TfidfTransformer()),\n",
              "                ('clf', BernoulliNB())])"
            ],
            "text/html": [
              "<style>#sk-container-id-1 {color: black;background-color: white;}#sk-container-id-1 pre{padding: 0;}#sk-container-id-1 div.sk-toggleable {background-color: white;}#sk-container-id-1 label.sk-toggleable__label {cursor: pointer;display: block;width: 100%;margin-bottom: 0;padding: 0.3em;box-sizing: border-box;text-align: center;}#sk-container-id-1 label.sk-toggleable__label-arrow:before {content: \"▸\";float: left;margin-right: 0.25em;color: #696969;}#sk-container-id-1 label.sk-toggleable__label-arrow:hover:before {color: black;}#sk-container-id-1 div.sk-estimator:hover label.sk-toggleable__label-arrow:before {color: black;}#sk-container-id-1 div.sk-toggleable__content {max-height: 0;max-width: 0;overflow: hidden;text-align: left;background-color: #f0f8ff;}#sk-container-id-1 div.sk-toggleable__content pre {margin: 0.2em;color: black;border-radius: 0.25em;background-color: #f0f8ff;}#sk-container-id-1 input.sk-toggleable__control:checked~div.sk-toggleable__content {max-height: 200px;max-width: 100%;overflow: auto;}#sk-container-id-1 input.sk-toggleable__control:checked~label.sk-toggleable__label-arrow:before {content: \"▾\";}#sk-container-id-1 div.sk-estimator input.sk-toggleable__control:checked~label.sk-toggleable__label {background-color: #d4ebff;}#sk-container-id-1 div.sk-label input.sk-toggleable__control:checked~label.sk-toggleable__label {background-color: #d4ebff;}#sk-container-id-1 input.sk-hidden--visually {border: 0;clip: rect(1px 1px 1px 1px);clip: rect(1px, 1px, 1px, 1px);height: 1px;margin: -1px;overflow: hidden;padding: 0;position: absolute;width: 1px;}#sk-container-id-1 div.sk-estimator {font-family: monospace;background-color: #f0f8ff;border: 1px dotted black;border-radius: 0.25em;box-sizing: border-box;margin-bottom: 0.5em;}#sk-container-id-1 div.sk-estimator:hover {background-color: #d4ebff;}#sk-container-id-1 div.sk-parallel-item::after {content: \"\";width: 100%;border-bottom: 1px solid gray;flex-grow: 1;}#sk-container-id-1 div.sk-label:hover label.sk-toggleable__label {background-color: #d4ebff;}#sk-container-id-1 div.sk-serial::before {content: \"\";position: absolute;border-left: 1px solid gray;box-sizing: border-box;top: 0;bottom: 0;left: 50%;z-index: 0;}#sk-container-id-1 div.sk-serial {display: flex;flex-direction: column;align-items: center;background-color: white;padding-right: 0.2em;padding-left: 0.2em;position: relative;}#sk-container-id-1 div.sk-item {position: relative;z-index: 1;}#sk-container-id-1 div.sk-parallel {display: flex;align-items: stretch;justify-content: center;background-color: white;position: relative;}#sk-container-id-1 div.sk-item::before, #sk-container-id-1 div.sk-parallel-item::before {content: \"\";position: absolute;border-left: 1px solid gray;box-sizing: border-box;top: 0;bottom: 0;left: 50%;z-index: -1;}#sk-container-id-1 div.sk-parallel-item {display: flex;flex-direction: column;z-index: 1;position: relative;background-color: white;}#sk-container-id-1 div.sk-parallel-item:first-child::after {align-self: flex-end;width: 50%;}#sk-container-id-1 div.sk-parallel-item:last-child::after {align-self: flex-start;width: 50%;}#sk-container-id-1 div.sk-parallel-item:only-child::after {width: 0;}#sk-container-id-1 div.sk-dashed-wrapped {border: 1px dashed gray;margin: 0 0.4em 0.5em 0.4em;box-sizing: border-box;padding-bottom: 0.4em;background-color: white;}#sk-container-id-1 div.sk-label label {font-family: monospace;font-weight: bold;display: inline-block;line-height: 1.2em;}#sk-container-id-1 div.sk-label-container {text-align: center;}#sk-container-id-1 div.sk-container {/* jupyter's `normalize.less` sets `[hidden] { display: none; }` but bootstrap.min.css set `[hidden] { display: none !important; }` so we also need the `!important` here to be able to override the default hidden behavior on the sphinx rendered scikit-learn.org. See: https://github.com/scikit-learn/scikit-learn/issues/21755 */display: inline-block !important;position: relative;}#sk-container-id-1 div.sk-text-repr-fallback {display: none;}</style><div id=\"sk-container-id-1\" class=\"sk-top-container\"><div class=\"sk-text-repr-fallback\"><pre>Pipeline(steps=[(&#x27;vect&#x27;, CountVectorizer()), (&#x27;tfidf&#x27;, TfidfTransformer()),\n",
              "                (&#x27;clf&#x27;, BernoulliNB())])</pre><b>In a Jupyter environment, please rerun this cell to show the HTML representation or trust the notebook. <br />On GitHub, the HTML representation is unable to render, please try loading this page with nbviewer.org.</b></div><div class=\"sk-container\" hidden><div class=\"sk-item sk-dashed-wrapped\"><div class=\"sk-label-container\"><div class=\"sk-label sk-toggleable\"><input class=\"sk-toggleable__control sk-hidden--visually\" id=\"sk-estimator-id-1\" type=\"checkbox\" ><label for=\"sk-estimator-id-1\" class=\"sk-toggleable__label sk-toggleable__label-arrow\">Pipeline</label><div class=\"sk-toggleable__content\"><pre>Pipeline(steps=[(&#x27;vect&#x27;, CountVectorizer()), (&#x27;tfidf&#x27;, TfidfTransformer()),\n",
              "                (&#x27;clf&#x27;, BernoulliNB())])</pre></div></div></div><div class=\"sk-serial\"><div class=\"sk-item\"><div class=\"sk-estimator sk-toggleable\"><input class=\"sk-toggleable__control sk-hidden--visually\" id=\"sk-estimator-id-2\" type=\"checkbox\" ><label for=\"sk-estimator-id-2\" class=\"sk-toggleable__label sk-toggleable__label-arrow\">CountVectorizer</label><div class=\"sk-toggleable__content\"><pre>CountVectorizer()</pre></div></div></div><div class=\"sk-item\"><div class=\"sk-estimator sk-toggleable\"><input class=\"sk-toggleable__control sk-hidden--visually\" id=\"sk-estimator-id-3\" type=\"checkbox\" ><label for=\"sk-estimator-id-3\" class=\"sk-toggleable__label sk-toggleable__label-arrow\">TfidfTransformer</label><div class=\"sk-toggleable__content\"><pre>TfidfTransformer()</pre></div></div></div><div class=\"sk-item\"><div class=\"sk-estimator sk-toggleable\"><input class=\"sk-toggleable__control sk-hidden--visually\" id=\"sk-estimator-id-4\" type=\"checkbox\" ><label for=\"sk-estimator-id-4\" class=\"sk-toggleable__label sk-toggleable__label-arrow\">BernoulliNB</label><div class=\"sk-toggleable__content\"><pre>BernoulliNB()</pre></div></div></div></div></div></div></div>"
            ]
          },
          "metadata": {},
          "execution_count": 16
        }
      ]
    },
    {
      "cell_type": "code",
      "source": [
        "# y_test\n",
        "import numpy as np\n",
        "predicted_Multi = text_clf_Multi.predict(X_test)\n",
        "predicted_Bernoulli = text_clf_Bernoulli.predict(X_test)\n"
      ],
      "metadata": {
        "id": "AMNNO7vf5dEG"
      },
      "execution_count": 17,
      "outputs": []
    },
    {
      "cell_type": "code",
      "source": [
        "accuracy = np.mean(predicted_Multi == y_test) * 100\n",
        "precision = precision_score(y_test, predicted_Multi, zero_division = 0)\n",
        "recall = recall_score(y_test, predicted_Multi)\n",
        "f1 = f1_score(y_test, predicted_Multi)\n",
        "auc = roc_auc_score(y_test, predicted_Multi)\n",
        "\n",
        "print(\"Accuracy MultinomialNB:\", accuracy)\n",
        "print(\"Precision MultinomialNB:\", precision)\n",
        "print(\"Recall MultinomialNB:\", recall)\n",
        "print(\"F1 Score MultinomialNB:\", f1)\n",
        "print(\"AUC Score MultinomialNB:\", auc)"
      ],
      "metadata": {
        "colab": {
          "base_uri": "https://localhost:8080/"
        },
        "id": "dIGCix1b5vcf",
        "outputId": "4b3d934e-58d6-4dee-fc0b-03e60e61cfdf"
      },
      "execution_count": 18,
      "outputs": [
        {
          "output_type": "stream",
          "name": "stdout",
          "text": [
            "Accuracy MultinomialNB: 74.55696202531645\n",
            "Precision MultinomialNB: 1.0\n",
            "Recall MultinomialNB: 0.0779816513761468\n",
            "F1 Score MultinomialNB: 0.14468085106382977\n",
            "AUC Score MultinomialNB: 0.5389908256880734\n"
          ]
        }
      ]
    },
    {
      "cell_type": "code",
      "source": [
        "accuracy = np.mean(predicted_Bernoulli == y_test) * 100\n",
        "precision = precision_score(y_test, predicted_Bernoulli, zero_division = 0)\n",
        "recall = recall_score(y_test, predicted_Bernoulli)\n",
        "f1 = f1_score(y_test, predicted_Bernoulli)\n",
        "auc = roc_auc_score(y_test, predicted_Bernoulli)\n",
        "\n",
        "print(\"Accuracy BernoulliNB:\", accuracy)\n",
        "print(\"Precision BernoulliNB:\", precision)\n",
        "print(\"Recall BernoulliNB:\", recall)\n",
        "print(\"F1 Score BernoulliNB:\", f1)\n",
        "print(\"AUC Score BernoulliNB:\", auc)"
      ],
      "metadata": {
        "colab": {
          "base_uri": "https://localhost:8080/"
        },
        "id": "XiH3WcvLKh9u",
        "outputId": "b7d8d0ee-ee76-4b44-c45a-c74b02c64e47"
      },
      "execution_count": 19,
      "outputs": [
        {
          "output_type": "stream",
          "name": "stdout",
          "text": [
            "Accuracy BernoulliNB: 76.20253164556962\n",
            "Precision BernoulliNB: 0.8947368421052632\n",
            "Recall BernoulliNB: 0.1559633027522936\n",
            "F1 Score BernoulliNB: 0.265625\n",
            "AUC Score BernoulliNB: 0.5744851478796433\n"
          ]
        }
      ]
    },
    {
      "cell_type": "code",
      "source": [
        "# X = data.Comment[:150]\n",
        "count_vect = CountVectorizer()\n",
        "X_test_counts = count_vect.fit_transform(X_test)\n",
        "LR = LogisticRegression()\n",
        "print(cross_val_score(LR, X_test_counts, y_test, cv=3))"
      ],
      "metadata": {
        "colab": {
          "base_uri": "https://localhost:8080/"
        },
        "id": "JrkWMkd57Gem",
        "outputId": "0de063fd-9430-4fc4-8d53-41eebec8b7f5"
      },
      "execution_count": 20,
      "outputs": [
        {
          "output_type": "stream",
          "name": "stdout",
          "text": [
            "[0.78409091 0.74524715 0.8365019 ]\n"
          ]
        }
      ]
    },
    {
      "cell_type": "code",
      "source": [
        "from sklearn.metrics import make_scorer, accuracy_score, precision_score, recall_score, f1_score, roc_auc_score\n",
        "\n",
        "scoring = {\n",
        "    'accuracy': make_scorer(accuracy_score),\n",
        "    'precision': make_scorer(precision_score),\n",
        "    'recall': make_scorer(recall_score),\n",
        "    'f1': make_scorer(f1_score),\n",
        "    'roc_auc': make_scorer(roc_auc_score)\n",
        "}\n"
      ],
      "metadata": {
        "id": "MOMKhvl9fJI2"
      },
      "execution_count": 21,
      "outputs": []
    },
    {
      "cell_type": "code",
      "source": [
        "accuracy_scores = cross_val_score(LR, X_test_counts, y_test, cv=3, scoring='accuracy')\n",
        "precision_scores = cross_val_score(LR, X_test_counts, y_test, cv=3, scoring='precision')\n",
        "recall_scores = cross_val_score(LR, X_test_counts, y_test, cv=3, scoring='recall')\n",
        "f1_scores = cross_val_score(LR, X_test_counts, y_test, cv=3, scoring='f1')\n",
        "auc_scores = cross_val_score(LR, X_test_counts, y_test, cv=3, scoring='roc_auc')\n",
        "\n",
        "print(\"Accuracy:\", accuracy_scores.mean())\n",
        "print(\"Precision:\", precision_scores.mean())\n",
        "print(\"Recall:\", recall_scores.mean())\n",
        "print(\"F1 Score:\", f1_scores.mean())\n",
        "print(\"AUC Score:\", auc_scores.mean())"
      ],
      "metadata": {
        "colab": {
          "base_uri": "https://localhost:8080/"
        },
        "id": "n4aTD4WE8OQz",
        "outputId": "4ff6bcba-c180-43c8-a352-c8c3a552e1f1"
      },
      "execution_count": 22,
      "outputs": [
        {
          "output_type": "stream",
          "name": "stdout",
          "text": [
            "Accuracy: 0.7886133195068558\n",
            "Precision: 0.6820450885668278\n",
            "Recall: 0.4635337392186707\n",
            "F1 Score: 0.5499092124479121\n",
            "AUC Score: 0.811537649318256\n"
          ]
        }
      ]
    },
    {
      "cell_type": "code",
      "source": [
        "accuracy_scores = cross_val_score(clf_Multi, X_test_counts, y_test, cv=3, scoring='accuracy')\n",
        "precision_scores = cross_val_score(clf_Multi, X_test_counts, y_test, cv=3, scoring='precision')\n",
        "recall_scores = cross_val_score(clf_Multi, X_test_counts, y_test, cv=3, scoring='recall')\n",
        "f1_scores = cross_val_score(clf_Multi, X_test_counts, y_test, cv=3, scoring='f1')\n",
        "auc_scores = cross_val_score(clf_Multi, X_test_counts, y_test, cv=3, scoring='roc_auc')\n",
        "\n",
        "print(\"Accuracy:\", accuracy_scores.mean())\n",
        "print(\"Precision:\", precision_scores.mean())\n",
        "print(\"Recall:\", recall_scores.mean())\n",
        "print(\"F1 Score:\", f1_scores.mean())\n",
        "print(\"AUC Score:\", auc_scores.mean())"
      ],
      "metadata": {
        "colab": {
          "base_uri": "https://localhost:8080/"
        },
        "id": "VgXjYKByIVJ3",
        "outputId": "17b2e69a-f0cd-4689-efc8-b6cc6e7fa15e"
      },
      "execution_count": 23,
      "outputs": [
        {
          "output_type": "stream",
          "name": "stdout",
          "text": [
            "Accuracy: 0.7404702922763761\n",
            "Precision: 0.5357220859300796\n",
            "Recall: 0.47222222222222227\n",
            "F1 Score: 0.5009457648727055\n",
            "AUC Score: 0.7169346087293028\n"
          ]
        }
      ]
    },
    {
      "cell_type": "code",
      "source": [
        "accuracy_scores = cross_val_score(clf_Bernoulli, X_test_counts, y_test, cv=3, scoring='accuracy')\n",
        "precision_scores = cross_val_score(clf_Bernoulli, X_test_counts, y_test, cv=3, scoring='precision')\n",
        "recall_scores = cross_val_score(clf_Bernoulli, X_test_counts, y_test, cv=3, scoring='recall')\n",
        "f1_scores = cross_val_score(clf_Bernoulli, X_test_counts, y_test, cv=3, scoring='f1')\n",
        "auc_scores = cross_val_score(clf_Bernoulli, X_test_counts, y_test, cv=3, scoring='roc_auc')\n",
        "\n",
        "print(\"Accuracy:\", accuracy_scores.mean())\n",
        "print(\"Precision:\", precision_scores.mean())\n",
        "print(\"Recall:\", recall_scores.mean())\n",
        "print(\"F1 Score:\", f1_scores.mean())\n",
        "print(\"AUC Score:\", auc_scores.mean())"
      ],
      "metadata": {
        "colab": {
          "base_uri": "https://localhost:8080/"
        },
        "id": "2J_QTs5pLSyv",
        "outputId": "0112b8dc-b6e4-47bc-91cc-df9d4fc6e105"
      },
      "execution_count": 24,
      "outputs": [
        {
          "output_type": "stream",
          "name": "stdout",
          "text": [
            "Accuracy: 0.6898404194031572\n",
            "Precision: 0.1865079365079365\n",
            "Recall: 0.0365296803652968\n",
            "F1 Score: 0.06049228201919065\n",
            "AUC Score: 0.6843202252445525\n"
          ]
        }
      ]
    },
    {
      "cell_type": "markdown",
      "source": [
        "Logistic Regression had the best accuracy out of the three."
      ],
      "metadata": {
        "id": "1DOMODvXPZ6K"
      }
    }
  ],
  "metadata": {
    "anaconda-cloud": {},
    "kernelspec": {
      "display_name": "Python [conda root]",
      "language": "python",
      "name": "conda-root-py"
    },
    "language_info": {
      "codemirror_mode": {
        "name": "ipython",
        "version": 3
      },
      "file_extension": ".py",
      "mimetype": "text/x-python",
      "name": "python",
      "nbconvert_exporter": "python",
      "pygments_lexer": "ipython3",
      "version": "3.5.2"
    },
    "colab": {
      "provenance": [],
      "include_colab_link": true
    }
  },
  "nbformat": 4,
  "nbformat_minor": 0
}