{
 "cells": [
  {
   "cell_type": "markdown",
   "id": "bb55b006",
   "metadata": {},
   "source": [
    "# Computer Vision Project 3"
   ]
  },
  {
   "cell_type": "markdown",
   "id": "38fdabe4",
   "metadata": {},
   "source": [
    "## 1. Hough Transform for straight lines without edge orientation"
   ]
  },
  {
   "cell_type": "markdown",
   "id": "db1dcab6",
   "metadata": {},
   "source": [
    "### Binary Edge Detection"
   ]
  },
  {
   "cell_type": "code",
   "execution_count": null,
   "id": "69e8d07f",
   "metadata": {},
   "outputs": [],
   "source": [
    "import numpy as np\n",
    "import cv2  \n",
    "import matplotlib.pyplot as plt "
   ]
  },
  {
   "cell_type": "code",
   "execution_count": null,
   "id": "820c2f4a",
   "metadata": {},
   "outputs": [],
   "source": [
    "def convolution(f, I):\n",
    "    f_height, f_width = f.shape\n",
    "    I_height, I_width = I.shape\n",
    "    pad_height, pad_width = f_height // 2, f_width // 2\n",
    "\n",
    "    I_padded = np.pad(I, ((pad_height, pad_height), (pad_width, pad_width)), mode='constant')\n",
    "\n",
    "    im_conv = np.zeros(I.shape, dtype=np.float32)\n",
    "\n",
    "    for i in range(I_height):\n",
    "        for j in range(I_width):\n",
    "            im_conv[i, j] = np.sum(f * I_padded[i:i + f_height, j:j + f_width])\n",
    "\n",
    "    return im_conv"
   ]
  },
  {
   "cell_type": "code",
   "execution_count": null,
   "id": "52799e54",
   "metadata": {},
   "outputs": [],
   "source": [
    "image = cv2.imread('edges-lines-orig.png', cv2.IMREAD_GRAYSCALE)\n",
    "plt.imshow(image, cmap='gray')"
   ]
  },
  {
   "cell_type": "code",
   "execution_count": null,
   "id": "185e7416",
   "metadata": {},
   "outputs": [],
   "source": [
    "sigma = 3\n",
    "x_range = np.linspace(-int(sigma/2),int(sigma/2),sigma)\n",
    "# print(x_range)\n",
    "gaussian_filter = [ (1 / (sigma * np.sqrt(2*np.pi)) * np.exp(-x**2/(2*sigma**2))) for x in x_range ]\n",
    "total = sum(gaussian_filter)\n",
    "gaussian_filter = [[x/total for x in gaussian_filter]]\n",
    "Gx = np.array(gaussian_filter)\n",
    "Gy = Gx.reshape(-1,1)\n",
    "print(\"Gx =\",Gx)\n",
    "print(\"Gy =\",Gy)"
   ]
  },
  {
   "cell_type": "code",
   "execution_count": null,
   "id": "4fdec5cb",
   "metadata": {},
   "outputs": [],
   "source": [
    "image_filtered_x = convolution(Gx, image)\n",
    "image_filtered_y = convolution(Gy, image_filtered_x)"
   ]
  },
  {
   "cell_type": "code",
   "execution_count": null,
   "id": "f77877e2",
   "metadata": {},
   "outputs": [],
   "source": [
    "plt.imshow(image_filtered_x, cmap='gray')"
   ]
  },
  {
   "cell_type": "code",
   "execution_count": null,
   "id": "07612372",
   "metadata": {},
   "outputs": [],
   "source": [
    "plt.imshow(image_filtered_y, cmap='gray')"
   ]
  },
  {
   "cell_type": "code",
   "execution_count": null,
   "id": "cbf0a087",
   "metadata": {},
   "outputs": [],
   "source": [
    "derivative_filter_x = np.array([[-1], [0], [1]])\n",
    "derivative_filter_y = derivative_filter_x.reshape((1, -1))\n",
    "\n",
    "image_dx = convolution(derivative_filter_x, image_filtered_y)\n",
    "image_dy = convolution(derivative_filter_y, image_filtered_y)\n"
   ]
  },
  {
   "cell_type": "code",
   "execution_count": null,
   "id": "54005822",
   "metadata": {},
   "outputs": [],
   "source": [
    "plt.figure(figsize=(12, 12))\n",
    "\n",
    "plt.subplot(1, 2, 1)\n",
    "plt.imshow(image_dx, cmap='gray')\n",
    "plt.title('Dervative Image Dx')\n",
    "\n",
    "plt.subplot(1, 2, 2)\n",
    "plt.imshow(image_dy, cmap='gray')\n",
    "plt.title('Derivative Image Dy')\n",
    "\n",
    "plt.show()"
   ]
  },
  {
   "cell_type": "code",
   "execution_count": null,
   "id": "9a76ae6f",
   "metadata": {},
   "outputs": [],
   "source": [
    "gradient_magnitude = np.sqrt(image_dx ** 2 + image_dy ** 2)\n",
    "plt.imshow(gradient_magnitude, cmap='gray')"
   ]
  },
  {
   "cell_type": "code",
   "execution_count": null,
   "id": "b1b3e5e3",
   "metadata": {},
   "outputs": [],
   "source": [
    "threshold = 30\n",
    "binary_edges = (gradient_magnitude > threshold).astype(np.uint8) * 255"
   ]
  },
  {
   "cell_type": "code",
   "execution_count": null,
   "id": "051abdae",
   "metadata": {},
   "outputs": [],
   "source": [
    "cv2.imshow('Original Image', image.astype(np.uint8))\n",
    "cv2.imshow('Gradient Magnitude', gradient_magnitude.astype(np.uint8))\n",
    "cv2.imshow('Binary Edges', binary_edges)\n",
    "cv2.waitKey(0)\n",
    "cv2.destroyAllWindows()"
   ]
  },
  {
   "cell_type": "code",
   "execution_count": null,
   "id": "646bf678",
   "metadata": {},
   "outputs": [],
   "source": [
    "plt.figure(figsize=(12, 12))\n",
    "plt.subplot(1, 3, 1)\n",
    "plt.imshow(image, cmap='gray')\n",
    "plt.title('Original Image')\n",
    "\n",
    "plt.subplot(1, 3, 2)\n",
    "plt.imshow(gradient_magnitude, cmap='gray')\n",
    "plt.title('Gradient Magnitude')\n",
    "\n",
    "plt.subplot(1, 3, 3)\n",
    "plt.imshow(binary_edges, cmap='gray')\n",
    "plt.title('Binary Edges(Threshold=40)')\n",
    "\n",
    "plt.show()"
   ]
  },
  {
   "cell_type": "code",
   "execution_count": null,
   "id": "2e7afb46",
   "metadata": {},
   "outputs": [],
   "source": [
    "binary_edges = binary_edges[5:-5, 5:-5]\n",
    "\n",
    "plt.imshow(binary_edges, cmap='gray')\n",
    "plt.title('Binary Edges(Threshold=40)')"
   ]
  },
  {
   "cell_type": "code",
   "execution_count": null,
   "id": "3531011a",
   "metadata": {},
   "outputs": [],
   "source": [
    "def hough_transform(image, delta_rho=1, delta_theta=1, threshold=10, num_peaks=10):\n",
    "    edges = binary_edges\n",
    "    plt.imshow(edges, cmap='gray')\n",
    "\n",
    "    max_rho = int(np.sqrt(np.square(image.shape[0]) + np.square(image.shape[1])))\n",
    "    theta_values = np.deg2rad(np.arange(-90, 91, delta_theta))\n",
    "    rho_values = np.arange(-max_rho, max_rho + 1, delta_rho)\n",
    "\n",
    "    accumulator = np.zeros((len(rho_values), len(theta_values)), dtype=np.uint64)\n",
    "\n",
    "    y_nonz, x_nonz = np.nonzero(edges)\n",
    "    for i in range(len(x_nonz)):\n",
    "        x = x_nonz[i]\n",
    "        y = y_nonz[i]\n",
    "        for j in range(len(theta_values)):\n",
    "            rho = int(x * np.cos(theta_values[j]) + y * np.sin(theta_values[j]))\n",
    "            rho_ind = np.argmin(np.abs(rho_values - rho))\n",
    "            accumulator[rho_ind, j] += 1\n",
    "\n",
    "    peaks = []\n",
    "\n",
    "    for i in range(1, accumulator.shape[0] - 1):\n",
    "        for j in range(1, accumulator.shape[1] - 1):\n",
    "            if accumulator[i, j] > accumulator[i - 1:i + 2, j - 1:j + 2].max():\n",
    "                peaks.append((i, j))\n",
    "\n",
    "    peaks = sorted(peaks, key=lambda x: accumulator[x[0], x[1]], reverse=True)[:num_peaks]\n",
    "\n",
    "\n",
    "    peaks = np.column_stack(np.unravel_index(np.argsort(accumulator.ravel())[-num_peaks:], accumulator.shape))\n",
    "\n",
    "    lines_image = image.copy()\n",
    "    for peak in peaks:\n",
    "        rho, theta = rho_values[peak[0]], theta_values[peak[1]]\n",
    "        a = np.cos(theta)\n",
    "        b = np.sin(theta)\n",
    "        x0 = a * rho\n",
    "        y0 = b * rho\n",
    "        x1 = int(x0 + 1000 * (-b))\n",
    "        y1 = int(y0 + 1000 * (a))\n",
    "        x2 = int(x0 - 1000 * (-b))\n",
    "        y2 = int(y0 - 1000 * (a))\n",
    "        cv2.line(lines_image, (x1, y1), (x2, y2), (0, 0, 255), 1)\n",
    "\n",
    "    return accumulator, peaks, lines_image"
   ]
  },
  {
   "cell_type": "code",
   "execution_count": null,
   "id": "9864751e",
   "metadata": {},
   "outputs": [],
   "source": [
    "accumulator, peaks, lines_image = hough_transform(image)\n",
    "\n",
    "# cv2.imshow('Original Image', image)\n",
    "# cv2.imshow('Accumulator', cv2.normalize(accumulator, None, 0, 255, cv2.NORM_MINMAX).astype(np.uint8))\n",
    "# cv2.imshow('Lines Image', lines_image)\n",
    "# cv2.imshow('Binary Edges', binary_edges)\n",
    "# cv2.waitKey(0)\n",
    "# cv2.destroyAllWindows()"
   ]
  },
  {
   "cell_type": "code",
   "execution_count": null,
   "id": "48e95af8",
   "metadata": {},
   "outputs": [],
   "source": [
    "plt.figure(figsize=(12, 12))\n",
    "plt.subplot(1, 3, 1)\n",
    "plt.imshow(image, cmap='gray')\n",
    "plt.title('Original Image')\n",
    "\n",
    "plt.subplot(1, 3, 2)\n",
    "plt.imshow(cv2.normalize(accumulator, None, 0, 255, cv2.NORM_MINMAX).astype(np.uint8), cmap='gray')\n",
    "plt.title('Accumulator')\n",
    "\n",
    "plt.subplot(1, 3, 3)\n",
    "plt.imshow(lines_image, cmap='gray')\n",
    "plt.title('Lines Image')\n",
    "\n",
    "plt.show()"
   ]
  },
  {
   "cell_type": "code",
   "execution_count": null,
   "id": "e4b76c81",
   "metadata": {},
   "outputs": [],
   "source": [
    "normalized_accumulator = cv2.normalize(accumulator, None, 0, 255, cv2.NORM_MINMAX)\n",
    "\n",
    "min_val = np.min(normalized_accumulator)\n",
    "max_val = np.max(normalized_accumulator)\n",
    "enhanced_accumulator = (normalized_accumulator - min_val) / (max_val - min_val) * 255\n",
    "\n",
    "enhanced_accumulator = enhanced_accumulator.astype(np.uint8)"
   ]
  },
  {
   "cell_type": "code",
   "execution_count": null,
   "id": "f1c31574",
   "metadata": {},
   "outputs": [],
   "source": [
    "# cv2.imshow('Original Image', image)\n",
    "# cv2.imshow('Accumulator', cv2.normalize(accumulator, None, 0, 255, cv2.NORM_MINMAX).astype(np.uint8))\n",
    "# cv2.imshow('Lines Image', lines_image)\n",
    "# cv2.imshow('Binary Edges', binary_edges)\n",
    "# cv2.waitKey(0)\n",
    "# cv2.destroyAllWindows()"
   ]
  },
  {
   "cell_type": "markdown",
   "id": "de642e61",
   "metadata": {},
   "source": [
    "## Creative Part - Hough Transform for Circles"
   ]
  },
  {
   "cell_type": "code",
   "execution_count": null,
   "id": "47d15685",
   "metadata": {},
   "outputs": [],
   "source": [
    "def hough_circle_transform(image, min_radius, max_radius, delta_radius=1, threshold=10, num_peaks=10):\n",
    "    edges = cv2.Canny(image, 50, 150)\n",
    "\n",
    "    max_radius_index = int((max_radius - min_radius) / delta_radius) + 1\n",
    "    accumulator = np.zeros((image.shape[0], image.shape[1], max_radius_index), dtype=np.uint64)\n",
    "    print(\"1\")\n",
    "    i=0\n",
    "    edge_points = np.column_stack(np.nonzero(edges))\n",
    "    for center_x in range(image.shape[1]):\n",
    "        i+=1\n",
    "        print(\"first\",i)\n",
    "        for center_y in range(image.shape[0]):\n",
    "            for radius_index in range(max_radius_index):\n",
    "                radius = min_radius + radius_index * delta_radius\n",
    "                for point in edge_points:\n",
    "                    x, y = point\n",
    "                    if (x - center_x)**2 + (y - center_y)**2 == radius**2:\n",
    "                        accumulator[center_y, center_x, radius_index] += 1\n",
    "#     print(\"2\")\n",
    "    peaks = np.column_stack(np.unravel_index(np.argsort(accumulator.ravel())[-num_peaks:], accumulator.shape))\n",
    "#     print(\"3\")\n",
    "    circles_image = image.copy()\n",
    "    for peak in peaks:\n",
    "        center_x, center_y, radius_index = peak\n",
    "        radius = min_radius + radius_index * delta_radius\n",
    "        cv2.circle(circles_image, (center_x, center_y), radius, (0, 0, 255), 2)\n",
    "#     print(\"4\")\n",
    "    return accumulator, peaks, circles_image"
   ]
  },
  {
   "cell_type": "code",
   "execution_count": null,
   "id": "df28036e",
   "metadata": {},
   "outputs": [],
   "source": [
    "image = cv2.imread('edges-lines-orig.png', cv2.IMREAD_GRAYSCALE)\n",
    "min_radius = 11\n",
    "max_radius = 12\n",
    "delta_radius = 1\n",
    "\n",
    "accumulator, peaks, circles_image = hough_circle_transform(image, min_radius, max_radius, delta_radius)\n",
    "\n",
    "# print(\"Done\")\n",
    "\n",
    "\n",
    "cv2.imshow('Original Image', image)\n",
    "# cv2.imshow('Accumulator', cv2.normalize(accumulator, None, 0, 255, cv2.NORM_MINMAX).astype(np.uint8))\n",
    "cv2.imshow('Circles Image', circles_image)\n",
    "cv2.waitKey(0)\n",
    "cv2.destroyAllWindows()"
   ]
  },
  {
   "cell_type": "code",
   "execution_count": null,
   "id": "0b743fa8",
   "metadata": {},
   "outputs": [],
   "source": [
    "plt.figure(figsize=(12, 12))\n",
    "plt.subplot(1, 3, 1)\n",
    "plt.imshow(image, cmap='gray')\n",
    "plt.title('Original Image')\n",
    "\n",
    "acc = cv2.normalize(accumulator, None, 0, 255, cv2.NORM_MINMAX).astype(np.uint8)\n",
    "plt.subplot(1, 3, 2)\n",
    "plt.imshow(acc[:, :,0], cmap='gray')\n",
    "plt.title('Accumulator')\n",
    "\n",
    "plt.subplot(1, 3, 3)\n",
    "plt.imshow(circles_image, cmap='gray')\n",
    "plt.title('Lines Image')\n",
    "\n",
    "plt.show()"
   ]
  },
  {
   "cell_type": "code",
   "execution_count": null,
   "id": "3ee5cbda",
   "metadata": {},
   "outputs": [],
   "source": []
  }
 ],
 "metadata": {
  "kernelspec": {
   "display_name": "Python 3 (ipykernel)",
   "language": "python",
   "name": "python3"
  },
  "language_info": {
   "codemirror_mode": {
    "name": "ipython",
    "version": 3
   },
   "file_extension": ".py",
   "mimetype": "text/x-python",
   "name": "python",
   "nbconvert_exporter": "python",
   "pygments_lexer": "ipython3",
   "version": "3.11.5"
  }
 },
 "nbformat": 4,
 "nbformat_minor": 5
}
